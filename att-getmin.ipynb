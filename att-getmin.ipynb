{
 "cells": [
  {
   "cell_type": "code",
   "execution_count": 39,
   "metadata": {},
   "outputs": [],
   "source": [
    "import numpy as np\n",
    "from sympy.solvers import solve\n",
    "from sympy import Symbol\n",
    "from itertools import product"
   ]
  },
  {
   "cell_type": "markdown",
   "metadata": {},
   "source": [
    "## Sistema de ecuaciones para las restricciones\n",
    "\n",
    "**Resolvemos el sistema de ecuaciones de la función de restricciones $g(X) = 3x + 5y + 15z + 25w + 30t = 365$, donde nuestras variables significan lo siguiente:**\n",
    "\n",
    "* **$x$: # de recargas de 30 pesos**\n",
    "* **$y$: # de recargas de 50 pesos**\n",
    "* **$z$: # de recargas de 100 pesos**\n",
    "* **$w$: # de recargas de 150 pesos**\n",
    "* **$t$: # de recargas de 200 pesos**\n",
    "\n",
    "**Resolviendo la ecuación encontramos que:**\n",
    "$$t = -5\\frac{w}{6} - \\frac{x}{10} - \\frac{y}{6} - \\frac{z}{2} + \\frac{73}{6}$$"
   ]
  },
  {
   "cell_type": "code",
   "execution_count": 19,
   "metadata": {},
   "outputs": [],
   "source": [
    "# símbolos para resolver el sistema de ecuaciones\n",
    "x=Symbol('x')\n",
    "y=Symbol('y')\n",
    "z=Symbol('z')\n",
    "w=Symbol('w')\n",
    "t=Symbol('t')"
   ]
  },
  {
   "cell_type": "code",
   "execution_count": 25,
   "metadata": {
    "scrolled": true
   },
   "outputs": [
    {
     "data": {
      "text/plain": [
       "[{t: -5*w/6 - x/10 - y/6 - z/2 + 73/6}]"
      ]
     },
     "execution_count": 25,
     "metadata": {},
     "output_type": "execute_result"
    }
   ],
   "source": [
    "# solución a la ecuación\n",
    "solve(3*x+5*y+15*z+25*w+30*t - 365, dict=True)"
   ]
  },
  {
   "cell_type": "markdown",
   "metadata": {},
   "source": [
    "## Función a minimizar dada la restricción\n",
    "\n",
    "$$f(X) = 30x + 50y + 100z + 150w + 200t$$"
   ]
  },
  {
   "cell_type": "code",
   "execution_count": 26,
   "metadata": {},
   "outputs": [],
   "source": [
    "# function f\n",
    "def f_rest(x,y,z,w):\n",
    "    t = -5*w/6 - x/10 - y/6 - z/2 + 73/6\n",
    "    return 3*x+5*y+15*z+25*w+30*t"
   ]
  },
  {
   "cell_type": "code",
   "execution_count": 31,
   "metadata": {},
   "outputs": [
    {
     "data": {
      "text/plain": [
       "365.0"
      ]
     },
     "execution_count": 31,
     "metadata": {},
     "output_type": "execute_result"
    }
   ],
   "source": [
    "f_rest(80,1,6,1000) # checamos si están bien nuestro t para la restricción (tiene que dar 365)"
   ]
  },
  {
   "cell_type": "code",
   "execution_count": 48,
   "metadata": {},
   "outputs": [],
   "source": [
    "# como esta bien la restricción entonces ahora vamos a sacar muchos valores de nuestra f\n",
    "# para eso primero la definimos\n",
    "def f(tupla):\n",
    "    t = -5*tupla[3]/6 - tupla[0]/10 - tupla[1]/6 - tupla[2]/2 + 73/6\n",
    "    return 30*tupla[0] + 50*tupla[1] + 100*tupla[2] + 150*tupla[3] + 200*t\n",
    "# tupla = (x,y,z,w)"
   ]
  },
  {
   "cell_type": "code",
   "execution_count": 38,
   "metadata": {},
   "outputs": [],
   "source": [
    "# ahora calculamos los valores que pueden tomar\n",
    "X = np.linspace(1,121,121)\n",
    "Y = np.linspace(1,73,73)\n",
    "Z = np.linspace(1,24,24)\n",
    "W = np.linspace(1,14,14)"
   ]
  },
  {
   "cell_type": "code",
   "execution_count": 55,
   "metadata": {},
   "outputs": [],
   "source": [
    "# Calculamos la función en los valores que puede tomar\n",
    "results = {}\n",
    "contador=0\n",
    "tuplas = {}\n",
    "for tupla in product(X,Y,Z,W):\n",
    "    results.update([(contador,f(tupla))])\n",
    "    contador = contador + 1\n",
    "    tuplas.update([(contador,tupla)])"
   ]
  },
  {
   "cell_type": "code",
   "execution_count": 57,
   "metadata": {},
   "outputs": [
    {
     "data": {
      "text/plain": [
       "13"
      ]
     },
     "execution_count": 57,
     "metadata": {},
     "output_type": "execute_result"
    }
   ],
   "source": [
    "# Llave del diccionario donde se encuentra nuestro mínimo\n",
    "min(results, key=results.get)"
   ]
  },
  {
   "cell_type": "code",
   "execution_count": 58,
   "metadata": {},
   "outputs": [
    {
     "data": {
      "text/plain": [
       "2226.666666666667"
      ]
     },
     "execution_count": 58,
     "metadata": {},
     "output_type": "execute_result"
    }
   ],
   "source": [
    "# MÍNIMO \n",
    "results[13]"
   ]
  },
  {
   "cell_type": "code",
   "execution_count": 60,
   "metadata": {},
   "outputs": [],
   "source": [
    "# ÓPTIMOS\n",
    "x,y,z,w = tuplas[13]"
   ]
  },
  {
   "cell_type": "code",
   "execution_count": 62,
   "metadata": {},
   "outputs": [
    {
     "data": {
      "text/plain": [
       "0.5666666666666664"
      ]
     },
     "execution_count": 62,
     "metadata": {},
     "output_type": "execute_result"
    }
   ],
   "source": [
    "# t ÓPTIMO\n",
    "t= -5*w/6 - x/10 - y/6 - z/2 + 73/6\n",
    "t"
   ]
  },
  {
   "cell_type": "code",
   "execution_count": 66,
   "metadata": {},
   "outputs": [
    {
     "name": "stdout",
     "output_type": "stream",
     "text": [
      "Los óptimos para minimizar el costo anual de nuestro servicio de celular son: \n",
      "# de recargas de $30:  1\n",
      "# de recargas de $50:  1\n",
      "# de recargas de $100:  1\n",
      "# de recargas de $150:  13\n",
      "# de recargas de $200:  0\n"
     ]
    }
   ],
   "source": [
    "print(\"Los óptimos para minimizar el costo anual de nuestro servicio de celular son: \")\n",
    "print(\"# de recargas de $30: \", int(x))\n",
    "print(\"# de recargas de $50: \", int(y))\n",
    "print(\"# de recargas de $100: \", int(z))\n",
    "print(\"# de recargas de $150: \", int(w))\n",
    "print(\"# de recargas de $200: \", int(t))"
   ]
  }
 ],
 "metadata": {
  "kernelspec": {
   "display_name": "Python 3",
   "language": "python",
   "name": "python3"
  },
  "language_info": {
   "codemirror_mode": {
    "name": "ipython",
    "version": 3
   },
   "file_extension": ".py",
   "mimetype": "text/x-python",
   "name": "python",
   "nbconvert_exporter": "python",
   "pygments_lexer": "ipython3",
   "version": "3.7.4"
  }
 },
 "nbformat": 4,
 "nbformat_minor": 2
}
